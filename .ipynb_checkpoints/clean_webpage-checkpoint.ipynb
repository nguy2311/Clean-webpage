{
 "cells": [
  {
   "cell_type": "code",
   "execution_count": 1,
   "id": "ba033316",
   "metadata": {},
   "outputs": [],
   "source": [
    "import pandas as pd\n",
    "import re\n",
    "import requests\n",
    "from bs4 import BeautifulSoup\n",
    "from urllib.parse import urlparse, urljoin\n",
    "import numpy as np\n",
    "import threading\n",
    "import concurrent.futures \n",
    "import multiprocessing \n",
    "import asyncio\n",
    "import aiohttp\n",
    "from aiohttp.client import ClientSession\n",
    "import nest_asyncio\n",
    "import ssl\n",
    "import urllib.parse\n",
    "import time \n",
    "import aiohttp_retry\n",
    "import polars as pl\n",
    "from sklearn.model_selection import train_test_split\n",
    "from tqdm import tqdm"
   ]
  },
  {
   "cell_type": "markdown",
   "id": "be4b4f2c",
   "metadata": {},
   "source": [
    "Because the data capacity is too large, I split it into many files for storage\n",
    "\n",
    "1. minify webpage"
   ]
  },
  {
   "cell_type": "code",
   "execution_count": 3,
   "id": "8498031e",
   "metadata": {
    "scrolled": true
   },
   "outputs": [],
   "source": [
    "import os\n",
    "import glob\n",
    "import pandas as pd\n",
    "\n",
    "temp_dir = \"DATASETS/details_pyppeteer/phishing\"\n",
    "\n",
    "import minify_html\n",
    "\n",
    "\n",
    "# Hàm minify HTML\n",
    "def minify(html):\n",
    "    if isinstance(html, str):\n",
    "        return minify_html.minify(html)\n",
    "    return html  # Nếu không phải là chuỗi, trả lại giá trị gốc\n",
    "\n",
    "# Hàm để xử lý từng chunk của DataFrame\n",
    "def process_chunk(df_chunk):\n",
    "    # Loại bỏ các hàng có giá trị NaN hoặc giá trị \"Drop\" trong cột Web_details\n",
    "    df_chunk = df_chunk.dropna(subset=['Web_details'])\n",
    "    df_chunk = df_chunk[df_chunk['Web_details'] != 'Drop']\n",
    "    \n",
    "    df_chunk['Web_details'] = df_chunk['Web_details'].apply(minify)\n",
    "    return df_chunk\n",
    "\n",
    "# Đọc từng tệp CSV, xử lý và ghi đè lại\n",
    "for f in tqdm(glob.glob(f\"{temp_dir}/*.csv\")):\n",
    "    print(f\"Reading {f}\")  # In ra tên file đang xử lý\n",
    "    df_chunk = pd.read_csv(f)\n",
    "    \n",
    "    print(f\"Processing {f}\")  # In ra tên file đang xử lý\n",
    "    processed_chunk = process_chunk(df_chunk)\n",
    "    \n",
    "    print(f\"Saving {f}\")  # In ra tên file sau khi xử lý\n",
    "    processed_chunk.to_csv(f, index=False)  # Ghi đè lại tệp CSV\n",
    "\n"
   ]
  },
  {
   "cell_type": "markdown",
   "id": "4ed5640d",
   "metadata": {},
   "source": []
  },
  {
   "cell_type": "code",
   "execution_count": 15,
   "id": "f090ba2b",
   "metadata": {},
   "outputs": [],
   "source": [
    "from bs4 import BeautifulSoup\n",
    "import re\n",
    "from collections import OrderedDict\n",
    "\n",
    "def extract_relevant_content(html_content, url):\n",
    "    try:\n",
    "        soup = BeautifulSoup(html_content, 'html.parser')\n",
    "    except Exception as e:\n",
    "        logging.error(f\"Lỗi khi phân tích HTML: {e}\")\n",
    "        return \"\"\n",
    "\n",
    "    # Giới hạn URL ở 100 ký tự đầu tiên\n",
    "    truncated_url = url[:80]\n",
    "\n",
    "    # OrderedDict để lưu trữ các phần tử văn bản đã lọc\n",
    "    content_parts = OrderedDict([(truncated_url, None)])  # Thêm URL bị cắt ngắn\n",
    "\n",
    "    # Lấy thẻ title nếu có\n",
    "    if soup.title and soup.title.string:\n",
    "        content_parts[soup.title.string] = None\n",
    "\n",
    "    # Lấy các thẻ meta cần thiết\n",
    "    for meta in soup.find_all('meta'):\n",
    "        if 'name' in meta.attrs and meta.attrs['name'] in ['description', 'keywords', 'robots']:\n",
    "            content = meta.attrs.get('content', '').strip()\n",
    "            if content and content not in content_parts:\n",
    "                content_parts[content] = None\n",
    "        elif 'http-equiv' in meta.attrs and meta.attrs['http-equiv'] == 'refresh':\n",
    "            content = re.split(r';?\\s*url=', meta.attrs.get('content', '').strip(), maxsplit=1)[0]\n",
    "            if content and content not in content_parts:\n",
    "                content_parts[content] = None\n",
    "    # Lấy văn bản từ các thẻ h, p, div, span, li, td\n",
    "    for tag in soup.find_all(['div', 'span', 'li', 'td']):\n",
    "        text = tag.get_text(separator=' ', strip=True)\n",
    "        if text:\n",
    "            sentences = re.split(r'(?<=[.!?]) +', text)\n",
    "            for sentence in sentences:\n",
    "                sentence = sentence.strip()\n",
    "                if sentence and sentence not in content_parts:\n",
    "                    content_parts[sentence] = None\n",
    "    # Lấy văn bản từ các thẻ h, p, div, span, li, td\n",
    "    for tag in soup.find_all(['h1', 'h2', 'h3', 'h4', 'h5', 'h6', 'p']):\n",
    "        text = tag.get_text(separator=' ', strip=True)\n",
    "        if text:\n",
    "            sentences = re.split(r'(?<=[.!?]) +', text)\n",
    "            for sentence in sentences:\n",
    "                sentence = sentence.strip()\n",
    "                if sentence and sentence not in content_parts:\n",
    "                    content_parts[sentence] = None\n",
    "\n",
    "    # Lấy văn bản bên trong thẻ a\n",
    "    for tag in soup.find_all('a'):\n",
    "        text = tag.get_text(strip=True)\n",
    "        if text and text not in content_parts:\n",
    "            content_parts[text] = None\n",
    "        href = tag.get('href', '').strip()\n",
    "        if href and href not in content_parts:\n",
    "            content_parts[href] = None\n",
    "\n",
    "    # Lấy thuộc tính placeholder của thẻ input\n",
    "    for input_tag in soup.find_all('input'):\n",
    "        placeholder = input_tag.attrs.get('placeholder', '').strip()\n",
    "        if placeholder and placeholder not in content_parts:\n",
    "            content_parts[placeholder] = None\n",
    "\n",
    "    # Lấy văn bản từ thẻ button\n",
    "    for button in soup.find_all('button'):\n",
    "        text = button.get_text(strip=True)\n",
    "        if text and text not in content_parts:\n",
    "            content_parts[text] = None\n",
    "\n",
    "    # Lấy thuộc tính src của script, img, frame, iframe, object, embed\n",
    "    for tag in soup.find_all(['script', 'img', 'frame', 'iframe', 'object', 'embed']):\n",
    "        src = tag.get('src', '').strip()\n",
    "        if src and src not in content_parts:\n",
    "            content_parts[src] = None\n",
    "\n",
    "    # Loại bỏ các giá trị None và chuyển đổi OrderedDict thành list\n",
    "    content_parts = list(content_parts.keys())\n",
    "    \n",
    "    combined_content = ' '.join(content_parts)  # Chuyển đổi list thành chuỗi\n",
    " \n",
    "\n",
    "    # Tách chuỗi thành một list các từ\n",
    "    word_list = combined_content.split()\n",
    "\n",
    "    # Lấy 2000 từ đầu tiên\n",
    "    first_2000_words = ' '.join(word_list[:1500])\n",
    "    \n",
    "    if first_2000_words.strip() == truncated_url:\n",
    "        return \"Drop\"\n",
    "\n",
    "    return first_2000_words\n",
    "\n",
    "# # Ví dụ sử dụng\n",
    "# html_content = df['Web_details'][1]  # Thay bằng nội dung HTML của bạn\n",
    "# url = df['url'][1]\n",
    "# relevant_content_string = extract_relevant_content(html_content, url)\n",
    "# print(html_content)\n",
    "\n",
    "# print(relevant_content_string)"
   ]
  },
  {
   "cell_type": "code",
   "execution_count": 18,
   "id": "ac82344b",
   "metadata": {},
   "outputs": [],
   "source": [
    "from tqdm import tqdm\n",
    "def process_chunk(df):\n",
    "    for i in tqdm(range(len(df))):\n",
    "        html_content = df['Web_details'][i]  # Thay bằng nội dung HTML[of]\n",
    "        url = df['url'][i]\n",
    "        relevant_content_string = extract_relevant_content(html_content, url)\n",
    "        df.at[i, 'Web_details'] = relevant_content_string\n",
    "    return df"
   ]
  },
  {
   "cell_type": "code",
   "execution_count": 20,
   "id": "adcdc0fe",
   "metadata": {
    "scrolled": true
   },
   "outputs": [
    {
     "name": "stdout",
     "output_type": "stream",
     "text": [
      "Reading DATASETS/details_pyppeteer/phishing/temp_391000.csv\n",
      "Processing DATASETS/details_pyppeteer/phishing/temp_391000.csv\n"
     ]
    },
    {
     "name": "stderr",
     "output_type": "stream",
     "text": [
      "100%|██████████████████████████████████████████| 591/591 [00:05<00:00, 117.91it/s]\n"
     ]
    },
    {
     "name": "stdout",
     "output_type": "stream",
     "text": [
      "     label                                        Web_details\n",
      "0        1  https://www.d455j6j7.blogspot.com Không tìm th...\n",
      "2        1  https://bicara-se0.blogspot.com/ Bicara SEO ≡ ...\n",
      "3        1  https://www.ticket-appeal-6f239.web.app Site N...\n",
      "4        1  https://www.4388gd.com 果冻  果冻  视频 热门 分类 我的 视...\n",
      "5        1  https://www.muzhnachas-kazan.narod.ru МУЖ НА Ч...\n",
      "..     ...                                                ...\n",
      "586      1  https://www.brasserie-osseus.fr Casino 7slots ...\n",
      "587      1  https://www.mariusidaamel.fkipuika.com 404 Not...\n",
      "588      1  https://www.tjwanlistone.com KUTASLOT 📍 Link G...\n",
      "589      1  https://epecpromen1983.blogspot.com/ ...Loadin...\n",
      "590      1  https://www.comaproductora.com Inicio - COMA P...\n",
      "\n",
      "[572 rows x 2 columns]\n",
      "Saving DATASETS/clean_details_pyppeteer_1/temp_391000.csv\n",
      "Reading DATASETS/details_pyppeteer/phishing/temp_393000.csv\n",
      "Processing DATASETS/details_pyppeteer/phishing/temp_393000.csv\n"
     ]
    },
    {
     "name": "stderr",
     "output_type": "stream",
     "text": [
      "100%|███████████████████████████████████████████| 578/578 [00:08<00:00, 70.86it/s]\n"
     ]
    },
    {
     "name": "stdout",
     "output_type": "stream",
     "text": [
      "     label                                        Web_details\n",
      "0        1  https://www.bijouxdesophie.co.cc CC.CC | Store...\n",
      "1        1  https://www.86bb2.com 警告/Warning *若阁下未满18岁请离开页...\n",
      "2        1  https://retgvrfdgvfrfd.blogspot.com/ Không tìm...\n",
      "3        1  https://instagram-login-b1aitours.blogspot.com...\n",
      "4        1  http://ww25.ms1.edsr.com/?subid1=20240612-1851...\n",
      "..     ...                                                ...\n",
      "573      1  https://www.karinsbegravningsbyra.se Karins Be...\n",
      "574      1           https://www.luna-maria.com 403 Forbidden\n",
      "575      1  https://www.gitlab.gitlab.test.majesticbank.is...\n",
      "576      1  https://www.l8xjqelqq.islacyborg.com.ar Forbid...\n",
      "577      1  https://www.emselec.aaespanol.org Index of / I...\n",
      "\n",
      "[551 rows x 2 columns]\n",
      "Saving DATASETS/clean_details_pyppeteer_1/temp_393000.csv\n",
      "Reading DATASETS/details_pyppeteer/phishing/temp_389000.csv\n",
      "Processing DATASETS/details_pyppeteer/phishing/temp_389000.csv\n"
     ]
    },
    {
     "name": "stderr",
     "output_type": "stream",
     "text": [
      "100%|██████████████████████████████████████████| 557/557 [00:04<00:00, 124.97it/s]\n"
     ]
    },
    {
     "name": "stdout",
     "output_type": "stream",
     "text": [
      "     label                                        Web_details\n",
      "0        1  https://www.webmail.buzzcaretraining.com accsm...\n",
      "2        1  https://www.dhushandhansd.github.io Site not f...\n",
      "3        1  https://www.k442.cc 欢迎光临 2024发发发发发发发发 · 体育投注 ·...\n",
      "4        1  https://www.form-c250c.web.app Site Not Found ...\n",
      "5        1  https://www.classiclogistics.org Under Constru...\n",
      "..     ...                                                ...\n",
      "552      1  https://www.incapital.mx Incapital | Home Home...\n",
      "553      1  https://uiyfyfghdgw.blogspot.com/ Không tìm th...\n",
      "554      1  https://www.nteoqwzd.mixcomponentes.com.br COM...\n",
      "555      1  https://sdfsdfsdf6s5df6sdf6dfsdfsdfs.blogspot....\n",
      "556      1  https://www.s-1d68ef176ed.lottostuff.net 403 F...\n",
      "\n",
      "[534 rows x 2 columns]\n",
      "Saving DATASETS/clean_details_pyppeteer_1/temp_389000.csv\n",
      "Reading DATASETS/details_pyppeteer/phishing/temp_397000.csv\n",
      "Processing DATASETS/details_pyppeteer/phishing/temp_397000.csv\n"
     ]
    },
    {
     "name": "stderr",
     "output_type": "stream",
     "text": [
      "100%|███████████████████████████████████████████| 560/560 [00:07<00:00, 75.92it/s]\n"
     ]
    },
    {
     "name": "stdout",
     "output_type": "stream",
     "text": [
      "     label                                        Web_details\n",
      "0        1  https://www.9811.sevemiller.co.uk 509 Bandwidt...\n",
      "1        1  https://malouranuo.blogspot.com/ Không tìm thấ...\n",
      "2        1  https://www.luanfelipe-x.github.io Site not fo...\n",
      "3        1  https://agahheh.blogspot.com/ Không tìm thấy b...\n",
      "4        1  https://your.adsterra.com/ Adsterra Advertisin...\n",
      "..     ...                                                ...\n",
      "555      1  https://www.129-148-59-92.cprapid.com Not Foun...\n",
      "556      1  https://www.www.avito.pay.sber.pay.pay.5guqgnf...\n",
      "557      1       https://www.angelokeller.autos /bLSRGOosu.js\n",
      "558      1  https://www.tripto.bg/ Хотели | Хотели в Бълга...\n",
      "559      1  https://www.ges-corp.cl GESCORP S.A max-image-...\n",
      "\n",
      "[533 rows x 2 columns]\n",
      "Saving DATASETS/clean_details_pyppeteer_1/temp_397000.csv\n",
      "Reading DATASETS/details_pyppeteer/phishing/temp_387000.csv\n",
      "Processing DATASETS/details_pyppeteer/phishing/temp_387000.csv\n"
     ]
    },
    {
     "name": "stderr",
     "output_type": "stream",
     "text": [
      "100%|██████████████████████████████████████████| 521/521 [00:04<00:00, 112.46it/s]\n"
     ]
    },
    {
     "name": "stdout",
     "output_type": "stream",
     "text": [
      "     label                                        Web_details\n",
      "0        1  https://www.jewelmische.co.cc CC.CC | Store La...\n",
      "1        1  https://shade-nutritious-coast.glitch.me/ Oops...\n",
      "2        1  https://fdssdffdsfdsfds.blogspot.com/ Không tì...\n",
      "3        1  https://65234465231.blogspot.com/ Không tìm th...\n",
      "4        1  https://gfdgfdgdf1111.blogspot.com/ Không tìm ...\n",
      "..     ...                                                ...\n",
      "516      1  https://www.pegasus.co.ke Pegasus Kenya Limite...\n",
      "517      1  https://www.travelfasiongirl.com travelfasiong...\n",
      "518      1  https://mkeys.at.ua/ Бесплатные ключи для анти...\n",
      "519      1  https://1youngprofessor.com/ YOUNG PROFESSOR -...\n",
      "520      1  https://www.www.marketsizeforecast.online This...\n",
      "\n",
      "[496 rows x 2 columns]\n",
      "Saving DATASETS/clean_details_pyppeteer_1/temp_387000.csv\n",
      "Reading DATASETS/details_pyppeteer/phishing/temp_399000.csv\n",
      "Processing DATASETS/details_pyppeteer/phishing/temp_399000.csv\n"
     ]
    },
    {
     "name": "stderr",
     "output_type": "stream",
     "text": [
      "100%|██████████████████████████████████████████| 567/567 [00:05<00:00, 107.04it/s]\n"
     ]
    },
    {
     "name": "stdout",
     "output_type": "stream",
     "text": [
      "     label                                        Web_details\n",
      "0        1  https://link545454526656.blogspot.com/ Không t...\n",
      "2        1  https://www.giusiana.net http://www.searchvity...\n",
      "3        1  https://www.printerncm.netlify.app Site Not Fo...\n",
      "5        1  https://oierutieyyumcxcvzxasdkfkgrtrdfg.blogsp...\n",
      "6        1  https://www.lead-is.com https://www.google.com...\n",
      "..     ...                                                ...\n",
      "562      1  https://cps.edu.pk/ County Public School free-...\n",
      "563      1  https://www.f31297971537.ngrok.io ERR_NGROK_32...\n",
      "564      1  https://www.sdfbsdjnfhsjkmnhfksjhdkh.blogspot....\n",
      "565      1  https://www.relationshiprebuildsonya.online Th...\n",
      "566      1  https://bikerdudes.blogspot.com/ Biker Dudes 1...\n",
      "\n",
      "[547 rows x 2 columns]\n",
      "Saving DATASETS/clean_details_pyppeteer_1/temp_399000.csv\n",
      "Reading DATASETS/details_pyppeteer/phishing/temp_395000.csv\n",
      "Processing DATASETS/details_pyppeteer/phishing/temp_395000.csv\n"
     ]
    },
    {
     "name": "stderr",
     "output_type": "stream",
     "text": [
      "100%|███████████████████████████████████████████| 608/608 [00:06<00:00, 87.92it/s]\n"
     ]
    },
    {
     "name": "stdout",
     "output_type": "stream",
     "text": [
      "     label                                        Web_details\n",
      "0        1  https://www.39u4m1.com すテークカジノ すテークカジノ,は仮想通貨系オ...\n",
      "1        1  https://www.rowmod.co.cc CC.CC | Store Launch ...\n",
      "2        1  https://premiumc2132.blogspot.com/ Không tìm t...\n",
      "3        1  https://nxreionnrryytddee.blogspot.com/ Sociét...\n",
      "4        1  https://messengerroomcall55438.blogspot.com/ K...\n",
      "..     ...                                                ...\n",
      "602      1  https://linkgdwesdgh.blogspot.com/ Không tìm t...\n",
      "604      1  https://www.hqoaef.n0c.world/ph-sys/suspended/...\n",
      "605      1  https://www.bk.majesticbank.is Majestic Bank M...\n",
      "606      1  https://www.check.iceiy.com Home  Eco Energy ...\n",
      "607      1  https://your.adsterra.com/ Adsterra Advertisin...\n",
      "\n",
      "[584 rows x 2 columns]\n",
      "Saving DATASETS/clean_details_pyppeteer_1/temp_395000.csv\n",
      "Reading DATASETS/details_pyppeteer/phishing/temp_401000.csv\n",
      "Processing DATASETS/details_pyppeteer/phishing/temp_401000.csv\n"
     ]
    },
    {
     "name": "stderr",
     "output_type": "stream",
     "text": [
      "100%|██████████████████████████████████████████| 152/152 [00:01<00:00, 124.27it/s]\n"
     ]
    },
    {
     "name": "stdout",
     "output_type": "stream",
     "text": [
      "     label                                        Web_details\n",
      "1        1  http://ww25.fckoi9mqgk.horunningshoe.com/?subi...\n",
      "2        1  https://www.cleanfilesforever.com cleanfilesfo...\n",
      "3        1  https://www.www.account-mannnnager-security-pe...\n",
      "4        1  http://ww12.univox.org/?usid=20&utid=129689163...\n",
      "5        1  https://www.talknahealga1974.myq-see.com 502 B...\n",
      "..     ...                                                ...\n",
      "147      1  https://www.rerew.87d76.da.wy5532.com wy5532.c...\n",
      "148      1  https://www.lifseyreh.com http://www.searchvit...\n",
      "149      1  https://www.agentprovocateurslovenia.com Atten...\n",
      "150      1  https://www.ouninephni.tistory.com TISTORY 본문 ...\n",
      "151      1  https://www.tnhzjmxu.gov.wy5532.com wy5532.com...\n",
      "\n",
      "[144 rows x 2 columns]\n",
      "Saving DATASETS/clean_details_pyppeteer_1/temp_401000.csv\n",
      "Reading DATASETS/details_pyppeteer/phishing/temp_390000.csv\n",
      "Processing DATASETS/details_pyppeteer/phishing/temp_390000.csv\n"
     ]
    },
    {
     "name": "stderr",
     "output_type": "stream",
     "text": [
      "100%|██████████████████████████████████████████| 577/577 [00:05<00:00, 104.85it/s]\n"
     ]
    },
    {
     "name": "stdout",
     "output_type": "stream",
     "text": [
      "     label                                        Web_details\n",
      "0        1  https://www.voxenglish.com VOX ENGLISH 開竅新書系列 ...\n",
      "1        1  https://redirect-applelink.blogspot.com/ Không...\n",
      "2        1  https://www.khanakjewels.com Page Not Found Oo...\n",
      "3        1  https://www.getins.co.cc CC.CC | Store Launch ...\n",
      "4        1  https://www.help-6c423.firebaseapp.com Site No...\n",
      "..     ...                                                ...\n",
      "572      1  https://www.lnb.9it4.shop Сократитель ссылок S...\n",
      "573      1  https://redirectinfoppl.blogspot.com/ Không tì...\n",
      "574      1  https://www.facebook.com-newterms-lxfvlcjafl.s...\n",
      "575      1  https://www.bosartigeverdammtegeschichtenn.s3....\n",
      "576      1  https://umbrettamills.com/ Coming Soon Get rea...\n",
      "\n",
      "[552 rows x 2 columns]\n",
      "Saving DATASETS/clean_details_pyppeteer_1/temp_390000.csv\n",
      "Reading DATASETS/details_pyppeteer/phishing/temp_392000.csv\n",
      "Processing DATASETS/details_pyppeteer/phishing/temp_392000.csv\n"
     ]
    },
    {
     "name": "stderr",
     "output_type": "stream",
     "text": [
      "100%|███████████████████████████████████████████| 572/572 [00:06<00:00, 92.69it/s]\n"
     ]
    },
    {
     "name": "stdout",
     "output_type": "stream",
     "text": [
      "     label                                        Web_details\n",
      "0        1  https://www.atto-myygov.firebaseapp.com Site N...\n",
      "1        1  https://www.pdflooker.co.cc CC.CC | Store Laun...\n",
      "3        1  https://www.hunwuwon.shop 后台管理 后台管理系统 记住我 登 录 ...\n",
      "4        1  https://jhkhjkhjkhj1111.blogspot.com/ Không tì...\n",
      "5        1  http://ww1.controyodestiny.com/?usid=25&utid=7...\n",
      "..     ...                                                ...\n",
      "567      1  https://com.de/ .com.de | Germany's new domain...\n",
      "568      1  https://www.5fggffggr4g4gh.blogspot.com Không ...\n",
      "569      1  https://www.bedbath-clearancebest.com DNS poin...\n",
      "570      1  https://www.6vdwrwww.vercel.app 403: FORBIDDEN...\n",
      "571      1  https://ffrfrfy645ere.blogspot.com/ Không tìm ...\n",
      "\n",
      "[551 rows x 2 columns]\n",
      "Saving DATASETS/clean_details_pyppeteer_1/temp_392000.csv\n",
      "Reading DATASETS/details_pyppeteer/phishing/temp_396000.csv\n",
      "Processing DATASETS/details_pyppeteer/phishing/temp_396000.csv\n"
     ]
    },
    {
     "name": "stderr",
     "output_type": "stream",
     "text": [
      "100%|███████████████████████████████████████████| 563/563 [00:06<00:00, 91.32it/s]\n"
     ]
    },
    {
     "name": "stdout",
     "output_type": "stream",
     "text": [
      "     label                                        Web_details\n",
      "0        1  https://techacad.net/ Tech Academy - Cisco Net...\n",
      "1        1  https://www.fromremind.co.cc CC.CC | Store Lau...\n",
      "2        1  https://www.englishminute.net 404: NOT_FOUND 4...\n",
      "4        1  https://www.miracon.co.jp トップページ - 日本ミラコン産業株式会...\n",
      "5        1  https://sidufyisudfs.blogspot.com/ Không tìm t...\n",
      "..     ...                                                ...\n",
      "557      1  https://www.influencer-votedaniela.blogspot.co...\n",
      "558      1  https://kiyhopinwa1976.blogspot.com/ Không tìm...\n",
      "559      1  https://musicadecarrilera.blogspot.com/ Không ...\n",
      "560      1  https://aunoption.com/ ร้าน aunoption อะไหล่แต...\n",
      "562      1  https://gfdgfgfd6546hgfh.blogspot.com/ Không t...\n",
      "\n",
      "[544 rows x 2 columns]\n",
      "Saving DATASETS/clean_details_pyppeteer_1/temp_396000.csv\n",
      "Reading DATASETS/details_pyppeteer/phishing/temp_388000.csv\n",
      "Processing DATASETS/details_pyppeteer/phishing/temp_388000.csv\n"
     ]
    },
    {
     "name": "stderr",
     "output_type": "stream",
     "text": [
      "100%|██████████████████████████████████████████| 578/578 [00:05<00:00, 114.63it/s]\n"
     ]
    },
    {
     "name": "stdout",
     "output_type": "stream",
     "text": [
      "     label                                        Web_details\n",
      "0        1  https://tuconsnomis1970.blogspot.com/ DRDE 0;U...\n",
      "2        1  https://www.home.prasimax.com Prasimax /home/c...\n",
      "3        1  https://www.brazer.pages.dev Deployment Not Fo...\n",
      "4        1  https://www.www.mbsr-kurse-koeln.com 404 Not F...\n",
      "5        1  https://vsdkjhvkjsdhvvdsvsdvdsvdsv.blogspot.co...\n",
      "..     ...                                                ...\n",
      "573      1  https://www.gv.uk.h.mrc.gtwr.topkhodro.ir 404 ...\n",
      "574      1  https://www.dfgfcvbcxvfxc.blogspot.com Không t...\n",
      "575      1     https://www.ybvip6473.com 400 Invalid Hostname\n",
      "576      1  https://support-pages-restricted.glitch.me/ Oo...\n",
      "577      1  http://ww25.tjq18.fishpomd.com/?subid1=2024061...\n",
      "\n",
      "[556 rows x 2 columns]\n",
      "Saving DATASETS/clean_details_pyppeteer_1/temp_388000.csv\n",
      "Reading DATASETS/details_pyppeteer/phishing/temp_400000.csv\n",
      "Processing DATASETS/details_pyppeteer/phishing/temp_400000.csv\n"
     ]
    },
    {
     "name": "stderr",
     "output_type": "stream",
     "text": [
      "100%|██████████████████████████████████████████| 581/581 [00:04<00:00, 127.71it/s]\n"
     ]
    },
    {
     "name": "stdout",
     "output_type": "stream",
     "text": [
      "     label                                        Web_details\n",
      "1        1  https://www.babymarktshop.com Sorry, This stor...\n",
      "2        1  https://www.autourdedjango.fr Autour de Django...\n",
      "3        1  https://www.apepyl.co.cc CC.CC | Store Launch ...\n",
      "4        1  https://softwareauthority.info The domain name...\n",
      "5        1  https://zonadeseguridad.net/ Zona De Seguridad...\n",
      "..     ...                                                ...\n",
      "576      1  https://dzfhsdgyghasdgshdfh.blogspot.com/ Khôn...\n",
      "577      1  https://aruba-d.blogspot.com/ Không tìm thấy b...\n",
      "578      1  https://stanzino.co.uk/ Luxury, Stand Alon War...\n",
      "579      1  https://www.dachhandjobvideoss.s3.eu-central-1...\n",
      "580      1  https://www.fedexlivraisoncourrier.fr.gd 410 G...\n",
      "\n",
      "[565 rows x 2 columns]\n",
      "Saving DATASETS/clean_details_pyppeteer_1/temp_400000.csv\n",
      "Reading DATASETS/details_pyppeteer/phishing/temp_398000.csv\n",
      "Processing DATASETS/details_pyppeteer/phishing/temp_398000.csv\n"
     ]
    },
    {
     "name": "stderr",
     "output_type": "stream",
     "text": [
      "100%|███████████████████████████████████████████| 583/583 [00:05<00:00, 99.12it/s]\n"
     ]
    },
    {
     "name": "stdout",
     "output_type": "stream",
     "text": [
      "     label                                        Web_details\n",
      "0        1  https://www.unifiedhc.salemcorporationnews.com...\n",
      "1        1  https://roundtaniso1980.blogspot.com/ DRDE 0;U...\n",
      "2        1  https://dek-anton31.blogspot.com/ Dek-Anton31 ...\n",
      "3        1  https://www.sport-salute.com Salute e Sport - ...\n",
      "4        1  https://www.beneficialbooster.com Registrant W...\n",
      "..     ...                                                ...\n",
      "578      1  https://www.outdoorfurnituremoldremover.appspo...\n",
      "579      1  https://fthfhjbn.blogspot.com/ Không tìm thấy ...\n",
      "580      1  https://cbvvbxcvbxzcgsdfgsdfgcvbcxvbsdfg.blogs...\n",
      "581      1  https://novaecosolar.com.br/ Nova Eco Energia ...\n",
      "582      1  https://www.ecuf.info ecuf.info This domain ma...\n",
      "\n",
      "[563 rows x 2 columns]\n",
      "Saving DATASETS/clean_details_pyppeteer_1/temp_398000.csv\n",
      "Reading DATASETS/details_pyppeteer/phishing/temp_386000.csv\n",
      "Processing DATASETS/details_pyppeteer/phishing/temp_386000.csv\n"
     ]
    },
    {
     "name": "stderr",
     "output_type": "stream",
     "text": [
      "100%|██████████████████████████████████████████| 586/586 [00:05<00:00, 112.49it/s]\n"
     ]
    },
    {
     "name": "stdout",
     "output_type": "stream",
     "text": [
      "     label                                        Web_details\n",
      "0        1      https://www.farmriiobrasiil.com 403 Forbidden\n",
      "2        1  https://www.lader43.co.cc CC.CC | Store Launch...\n",
      "3        1  https://www.emptycjana.000webhostapp.com No su...\n",
      "4        1  https://www.sadaghfhfdnb888.top Jumia Đăng nhậ...\n",
      "5        1  https://www.rewweee34.s3.ap-northeast-3.amazon...\n",
      "..     ...                                                ...\n",
      "581      1  https://www.pacificcoastcu.com Pacific Coast C...\n",
      "582      1  https://www.mercanogluinsaat.com.tr Apache HTT...\n",
      "583      1  https://videohotcuahot.blogspot.com/ Không tìm...\n",
      "584      1  https://www.cyzx0754.com 论坛 - Powered by Discu...\n",
      "585      1  http://ww25.karachays.com/?subid1=20240612-175...\n",
      "\n",
      "[565 rows x 2 columns]\n",
      "Saving DATASETS/clean_details_pyppeteer_1/temp_386000.csv\n",
      "Reading DATASETS/details_pyppeteer/phishing/temp_394000.csv\n",
      "Processing DATASETS/details_pyppeteer/phishing/temp_394000.csv\n"
     ]
    },
    {
     "name": "stderr",
     "output_type": "stream",
     "text": [
      "100%|██████████████████████████████████████████| 611/611 [00:04<00:00, 132.88it/s]"
     ]
    },
    {
     "name": "stdout",
     "output_type": "stream",
     "text": [
      "     label                                        Web_details\n",
      "0        1  https://www.ynsao.godaddysites.com 404 Not Fou...\n",
      "1        1  https://www.tdsam.com Total Display Solutions ...\n",
      "2        1  https://www.sgszdfgzxdfgs.blogspot.com Không t...\n",
      "3        1  https://www.www.pijykxbf.bhdaqznc.crediteurope...\n",
      "4        1  http://ww25.eejvxnm.zeheyang7.com/?subid1=2024...\n",
      "..     ...                                                ...\n",
      "606      1  https://dfgdfghghfgh.blogspot.com/ Không tìm t...\n",
      "607      1  https://www.suivi-chronopost.com Plesk Obsidia...\n",
      "608      1  https://sadhgjhgjjklrtyuyiiolghjkghjftryytihu....\n",
      "609      1  https://www.glestpeopleshou.info glestpeoplesh...\n",
      "610      1  https://www.tjydlc.com 钱柜娱乐·(中国)手机官网 钱柜娱乐 ◤钱柜娱...\n",
      "\n",
      "[582 rows x 2 columns]\n",
      "Saving DATASETS/clean_details_pyppeteer_1/temp_394000.csv\n"
     ]
    },
    {
     "name": "stderr",
     "output_type": "stream",
     "text": [
      "\n"
     ]
    }
   ],
   "source": [
    "save_dir = \"DATASETS/clean_details_pyppeteer_1\"\n",
    "os.makedirs(save_dir, exist_ok=True)  # Tạo thư mục nếu chưa tồn tại\n",
    "\n",
    "for f in glob.glob(f\"{temp_dir}/*.csv\"):\n",
    "    print(f\"Reading {f}\")  # In ra tên file đang xử lý\n",
    "    df_chunk = pd.read_csv(f)\n",
    "    df_chunk = df_chunk.drop_duplicates(subset=['Web_details']).reset_index(drop=True)\n",
    "\n",
    "    print(f\"Processing {f}\")  # In ra tên file đang xử lý\n",
    "    processed_chunk = process_chunk(df_chunk)\n",
    "    processed_chunk = processed_chunk.drop('url', axis=1)\n",
    "    processed_chunk = processed_chunk[processed_chunk['Web_details'] != 'Drop']\n",
    "    print(processed_chunk)\n",
    "\n",
    "    # Lấy tên file từ đường dẫn gốc\n",
    "    filename = os.path.basename(f)\n",
    "\n",
    "    # Đường dẫn mới để lưu trong thư mục save_dir\n",
    "    new_path = os.path.join(save_dir, filename)\n",
    "\n",
    "    print(f\"Saving {new_path}\")  # In ra tên file sau khi xử lý\n",
    "    processed_chunk.to_csv(new_path, index=False)  # Ghi vào file mới"
   ]
  },
  {
   "cell_type": "code",
   "execution_count": null,
   "id": "79f0aa15",
   "metadata": {},
   "outputs": [],
   "source": []
  }
 ],
 "metadata": {
  "kernelspec": {
   "display_name": "Python 3.12 (torch)",
   "language": "python",
   "name": "pytorch"
  },
  "language_info": {
   "codemirror_mode": {
    "name": "ipython",
    "version": 3
   },
   "file_extension": ".py",
   "mimetype": "text/x-python",
   "name": "python",
   "nbconvert_exporter": "python",
   "pygments_lexer": "ipython3",
   "version": "3.11.8"
  }
 },
 "nbformat": 4,
 "nbformat_minor": 5
}
